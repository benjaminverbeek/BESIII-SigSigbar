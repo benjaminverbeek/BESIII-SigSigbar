{
 "cells": [
  {
   "cell_type": "code",
   "execution_count": 41,
   "metadata": {},
   "outputs": [],
   "source": [
    "# Simple programme to read root file\n",
    "\n",
    "# Using uproot\n",
    "import uproot\n",
    "import numpy as np\n",
    "import matplotlib.pyplot as plt"
   ]
  },
  {
   "cell_type": "code",
   "execution_count": 42,
   "metadata": {},
   "outputs": [],
   "source": [
    "\n",
    "# Open root file\n",
    "file = uproot.open(r\"C:\\Users\\benja\\OneDrive\\Documents\\15c project\\USTC\\RhopiAlg\\TestRelease\\TestRelease-00-00-95\\run\\rhopi_ana.root\")"
   ]
  },
  {
   "cell_type": "code",
   "execution_count": 43,
   "metadata": {},
   "outputs": [
    {
     "name": "stdout",
     "output_type": "stream",
     "text": [
      "0: vxyz | 1: photon | 2: dedx | 3: tof1 | 4: tof2 | 5: pid | 6: etot | 7: fit4c | 8: fit5c | 9: geff | 10: tofe | Entering tree:  <TTree 'dedx' (10 branches) at 0x022903c53cd0>\n"
     ]
    }
   ],
   "source": [
    "# Print keys\n",
    "[print(f'{i}: {str(key).split(\";\")[0]}', end=\" | \") for i, key in enumerate(file.keys())]\n",
    "#print(list(enumerate(file.keys())))\n",
    "treeChoice = int(input(\"Which tree would you like to see?: \"))\n",
    "\n",
    "# Enter chosen tree\n",
    "tree = file[file.keys()[treeChoice]]\n",
    "print(\"Entering tree: \", tree)"
   ]
  },
  {
   "cell_type": "code",
   "execution_count": 44,
   "metadata": {},
   "outputs": [
    {
     "name": "stdout",
     "output_type": "stream",
     "text": [
      "0: ptrk | 1: chie | 2: chimu | 3: chipi | 4: chik | 5: chip | 6: probPH | 7: normPH | 8: ghit | 9: thit | Entering branch:  <TBranch 'chik' at 0x022905b31f10>\n"
     ]
    }
   ],
   "source": [
    "# Print branches\n",
    "[print(f'{i}: {str(key).split(\";\")[0]}', end=\" | \") for i, key in enumerate(tree.keys())]\n",
    "\n",
    "# Enter chosen branch\n",
    "branchChoice = int(input(\"Which branch would you like to see?: \"))\n",
    "branch = tree[tree.keys()[branchChoice]]\n",
    "print(\"Entering branch: \", branch)"
   ]
  },
  {
   "cell_type": "code",
   "execution_count": 45,
   "metadata": {},
   "outputs": [
    {
     "name": "stdout",
     "output_type": "stream",
     "text": [
      "66\n",
      "Plotting data...\n"
     ]
    },
    {
     "data": {
      "image/png": "[encoded data removed]",
      "text/plain": [
       "<Figure size 432x288 with 1 Axes>"
      ]
     },
     "metadata": {
      "needs_background": "light"
     },
     "output_type": "display_data"
    }
   ],
   "source": [
    "# Get data\n",
    "data = branch.array()\n",
    "print(len(data))\n",
    "\n",
    "# Plot data as histogram without filled bins\n",
    "print(\"Plotting data...\")\n",
    "plt.hist(data, bins=100, histtype='step')\n",
    "plt.title(\"Histogram of branch: \" + str(branch).split(\"'\")[1] + \" in tree: \" + str(tree).split(\"'\")[1])\n",
    "plt.xlabel(\"Data\")\n",
    "plt.ylabel(\"Count\")\n",
    "plt.show()"
   ]
  }
 ],
 "metadata": {
  "kernelspec": {
   "display_name": "Python 3.8.0 64-bit",
   "language": "python",
   "name": "python3"
  },
  "language_info": {
   "codemirror_mode": {
    "name": "ipython",
    "version": 3
   },
   "file_extension": ".py",
   "mimetype": "text/x-python",
   "name": "python",
   "nbconvert_exporter": "python",
   "pygments_lexer": "ipython3",
   "version": "3.8.0"
  },
  "orig_nbformat": 4,
  "vscode": {
   "interpreter": {
    "hash": "08e73498dc2a087aa81310bd864083fea331b18b6a88f08ca903d4908d54700c"
   }
  }
 },
 "nbformat": 4,
 "nbformat_minor": 2
}
